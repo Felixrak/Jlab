{
 "cells": [
  {
   "cell_type": "code",
   "execution_count": 1,
   "metadata": {},
   "outputs": [],
   "source": [
    "import numpy as np\n",
    "import pandas as pd\n",
    "import pymysql\n",
    "import rpy2\n",
    "import names"
   ]
  },
  {
   "cell_type": "code",
   "execution_count": null,
   "metadata": {},
   "outputs": [],
   "source": [
    "dic = {'A':['a','b','c'], 'B': [1,2,3]}\n",
    "df = pd.DataFrame(dic)"
   ]
  },
  {
   "cell_type": "code",
   "execution_count": null,
   "metadata": {},
   "outputs": [],
   "source": [
    "df.assign(C = df['B'] + 1).loc[:,'C']"
   ]
  },
  {
   "cell_type": "code",
   "execution_count": null,
   "metadata": {},
   "outputs": [],
   "source": [
    "df[['A','B']]\n",
    "df.iloc[:,0]\n",
    "df.loc[[0, 1]]"
   ]
  },
  {
   "cell_type": "code",
   "execution_count": null,
   "metadata": {},
   "outputs": [],
   "source": [
    " %load_ext sql"
   ]
  },
  {
   "cell_type": "code",
   "execution_count": null,
   "metadata": {},
   "outputs": [],
   "source": [
    "sql mysql://"
   ]
  },
  {
   "cell_type": "code",
   "execution_count": null,
   "metadata": {},
   "outputs": [],
   "source": [
    "%%sql\n",
    "CREATE TABLE student (\n",
    "    id INT AUTO_INCREMENT,\n",
    "    nombre VARCHAR(20) NOT NULL,\n",
    "    carrera VARCHAR(20)DEFAULT \"indecidido\",\n",
    "    PRIMARY KEY(id)\n",
    ");"
   ]
  },
  {
   "cell_type": "code",
   "execution_count": null,
   "metadata": {},
   "outputs": [],
   "source": [
    "%%sql\n",
    "INSERT INTO student VALUES(1,\"Est\", \"Maj\");\n",
    "SELECT * FROM student; "
   ]
  },
  {
   "cell_type": "code",
   "execution_count": null,
   "metadata": {},
   "outputs": [],
   "source": [
    "%sql\n",
    "DECLARE i INT;\n",
    "SET i = 0;\n"
   ]
  },
  {
   "cell_type": "code",
   "execution_count": 10,
   "metadata": {},
   "outputs": [],
   
  },
  {
   "cell_type": "code",
   "execution_count": 14,
   "metadata": {},
   "outputs": [
    {
     "data": {
      "text/html": [
       "<div>\n",
       "<style scoped>\n",
       "    .dataframe tbody tr th:only-of-type {\n",
       "        vertical-align: middle;\n",
       "    }\n",
       "\n",
       "    .dataframe tbody tr th {\n",
       "        vertical-align: top;\n",
       "    }\n",
       "\n",
       "    .dataframe thead th {\n",
       "        text-align: right;\n",
       "    }\n",
       "</style>\n",
       "<table border=\"1\" class=\"dataframe\">\n",
       "  <thead>\n",
       "    <tr style=\"text-align: right;\">\n",
       "      <th></th>\n",
       "      <th>id</th>\n",
       "      <th>nombre</th>\n",
       "    </tr>\n",
       "  </thead>\n",
       "  <tbody>\n",
       "    <tr>\n",
       "      <th>0</th>\n",
       "      <td>1</td>\n",
       "      <td>Esteban</td>\n",
       "    </tr>\n",
       "    <tr>\n",
       "      <th>1</th>\n",
       "      <td>2</td>\n",
       "      <td>Lana</td>\n",
       "    </tr>\n",
       "    <tr>\n",
       "      <th>2</th>\n",
       "      <td>3</td>\n",
       "      <td>Dwight</td>\n",
       "    </tr>\n",
       "    <tr>\n",
       "      <th>3</th>\n",
       "      <td>4</td>\n",
       "      <td>James</td>\n",
       "    </tr>\n",
       "    <tr>\n",
       "      <th>4</th>\n",
       "      <td>5</td>\n",
       "      <td>Eddie</td>\n",
       "    </tr>\n",
       "    <tr>\n",
       "      <th>5</th>\n",
       "      <td>6</td>\n",
       "      <td>Bobby</td>\n",
       "    </tr>\n",
       "    <tr>\n",
       "      <th>6</th>\n",
       "      <td>7</td>\n",
       "      <td>Jimmy</td>\n",
       "    </tr>\n",
       "    <tr>\n",
       "      <th>7</th>\n",
       "      <td>8</td>\n",
       "      <td>Joshua</td>\n",
       "    </tr>\n",
       "    <tr>\n",
       "      <th>8</th>\n",
       "      <td>9</td>\n",
       "      <td>Chadwick</td>\n",
       "    </tr>\n",
       "    <tr>\n",
       "      <th>9</th>\n",
       "      <td>10</td>\n",
       "      <td>Lisa</td>\n",
       "    </tr>\n",
       "    <tr>\n",
       "      <th>10</th>\n",
       "      <td>11</td>\n",
       "      <td>Cora</td>\n",
       "    </tr>\n",
       "    <tr>\n",
       "      <th>11</th>\n",
       "      <td>12</td>\n",
       "      <td>John</td>\n",
       "    </tr>\n",
       "    <tr>\n",
       "      <th>12</th>\n",
       "      <td>13</td>\n",
       "      <td>Shirley</td>\n",
       "    </tr>\n",
       "  </tbody>\n",
       "</table>\n",
       "</div>"
      ],
      "text/plain": [
       "    id    nombre\n",
       "0    1   Esteban\n",
       "1    2      Lana\n",
       "2    3    Dwight\n",
       "3    4     James\n",
       "4    5     Eddie\n",
       "5    6     Bobby\n",
       "6    7     Jimmy\n",
       "7    8    Joshua\n",
       "8    9  Chadwick\n",
       "9   10      Lisa\n",
       "10  11      Cora\n",
       "11  12      John\n",
       "12  13   Shirley"
      ]
     },
     "execution_count": 14,
     "metadata": {},
     "output_type": "execute_result"
    }
   ],
   "source": [
    "for i in range (2,14):\n",
    "    nombre = names.get_first_name()\n",
    "    conn.query(\" INSERT INTO inicial VALUES(\" + str(i) + ',' + \"'\" + nombre + \"'\" + \")\")\n",
    "\n",
    "\n",
    "pd.read_sql_query(\"SELECT * FROM inicial\", conn)"
   ]
  },
  {
   "cell_type": "code",
   "execution_count": null,
   "metadata": {},
   "outputs": [],
   "source": [
    "conn.query(\"\"\"CREATE TABLE Cars(Id INTEGER PRIMARY KEY, Name VARCHAR(20), Price INT)\"\"\")\n"
   ]
  },
  {
   "cell_type": "code",
   "execution_count": null,
   "metadata": {},
   "outputs": [],
   "source": [
    "for i in range (1,14):\n",
    "    nombre = names.get_first_name()\n",
    "    conn.query(\" UPDATE inicial SET nombre = \" + \"'\" + nombre + \"'\" + \"WHERE id =\" + str(i) )"
   ]
  },
  {
   "cell_type": "code",
   "execution_count": null,
   "metadata": {},
   "outputs": [],
   "source": [
    "df = pd.read_sql_query(\"SELECT * FROM inicial\", conn)\n",
    "df.set_index(\"id\")"
   ]
  },
  {
   "cell_type": "code",
   "execution_count": null,
   "metadata": {},
   "outputs": [],
   "source": [
    "conn.query(\"INSERT INTO inicial VALUES(2, 'Maria')\")"
   ]
  },
  {
   "cell_type": "code",
   "execution_count": 15,
   "metadata": {},
   "outputs": [],
   "source": [
    "conn.commit()"
   ]
  },
  {
   "cell_type": "code",
   "execution_count": null,
   "metadata": {},
   "outputs": [],
   "source": [
    "\" INSERT INTO inicial VALUES(\" + str(i) + ',' + \"'\" + \"nombre\" + \"'\" + \")\""
   ]
  },
  {
   "cell_type": "code",
   "execution_count": 6,
   "metadata": {},
   "outputs": [],
   "source": [
    "pasar_r = df.assign(Salario = np.random.random_sample(13)*100000)\n"
   ]
  },
  {
   "cell_type": "code",
   "execution_count": 8,
   "metadata": {},
   "outputs": [],
   "source": [
    "%load_ext rpy2.ipython"
   ]
  },
  {
   "cell_type": "code",
   "execution_count": 17,
   "metadata": {},
   "outputs": [
    {
     "data": {
      "image/png": "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\n"
     },
     "metadata": {},
     "output_type": "display_data"
    }
   ],
   "source": [
    "%%R -i pasar_r \n",
    "library(ggplot2)\n",
    "ggplot(pasar_r, aes(x = nombre, y = Salario, fill = nombre)) + geom_col()"
   ]
  },
  {
   "cell_type": "code",
   "execution_count": 12,
   "metadata": {},
   "outputs": [],
   "source": [
    "llenar = np.repeat([\"Casa\", \"Condominio\", \"Apartamento\", \"Tienda\", \"RBAB\"],3)\n"
   ]
  },
  {
   "cell_type": "code",
   "execution_count": 19,
   "metadata": {},
   "outputs": [],
   "source": [
    "df = pd.read_sql_query(\"SELECT * FROM inicial\", conn)\n",
    "\n",
    "for i in range(1, len(df.edad) + 1):\n",
    "     conn.query(\" UPDATE inicial SET hospedaje = \" + \"'\" +  llenar[i] + \"'\" + \" WHERE id = \" + str(i))   "
   ]
  },
  {
   "cell_type": "code",
   "execution_count": 20,
   "metadata": {},
   "outputs": [],
   "source": [
    "conn.commit()\n",
    "conn.close()"
   ]
  },
  {
   "cell_type": "code",
   "execution_count": null,
   "metadata": {},
   "outputs": [],
   "source": []
  }
 ],
 "metadata": {
  "kernelspec": {
   "display_name": "Python 3",
   "language": "python",
   "name": "python3"
  },
  "language_info": {
   "codemirror_mode": {
    "name": "ipython",
    "version": 3
   },
   "file_extension": ".py",
   "mimetype": "text/x-python",
   "name": "python",
   "nbconvert_exporter": "python",
   "pygments_lexer": "ipython3",
   "version": "3.7.4"
  }
 },
 "nbformat": 4,
 "nbformat_minor": 4
}
